{
 "cells": [
  {
   "cell_type": "markdown",
   "metadata": {},
   "source": [
    "Universidade Federal do Rio Grande do Sul (UFRGS)   \n",
    "Programa de Pós-Graduação em Engenharia Civil (PPGEC)   \n",
    "\n",
    "# PEC00025: Introduction to Vibration Theory\n",
    "\n",
    "\n",
    "### Class 08 - Vibration analysis in frequency domain\n",
    "\n",
    "[1.   Frequency preservation theorem](#section_1)  \n",
    "[2.   Reological models](#section_2)  \n",
    "[2.1. General linear model](#section_21)  \n",
    "[2.2. The Kevin-Voigt model](#section_22)  \n",
    "[2.3. The Maxwell model](#section_23)  \n",
    "[2.4. The standard model](#section_24)  \n",
    "[3.   Equilibrium in frequency domain](#section_3)  \n",
    "[4.   Estimation of r.m.s. and peak response](#section_4)  \n",
    "[5.   Assignment](#section_5)  \n",
    "\n",
    "---\n",
    "_Prof. Marcelo M. Rocha, Dr.techn._ [(ORCID)](https://orcid.org/0000-0001-5640-1020)  \n",
    "_Porto Alegre, RS, Brazil_ "
   ]
  },
  {
   "cell_type": "code",
   "execution_count": 1,
   "metadata": {},
   "outputs": [],
   "source": [
    "# Importing Python modules required for this notebook\n",
    "# (this cell must be executed with \"shift+enter\" before any other Python cell)\n",
    "\n",
    "import numpy as np\n",
    "import matplotlib.pyplot as plt\n",
    "from   MRPy import MRPy\n"
   ]
  },
  {
   "cell_type": "markdown",
   "metadata": {},
   "source": [
    "## 1. Frequency preservation theorem <a name=\"section_1\"></a> \n",
    "\n",
    "Let us assume now that our idealized single degree of freedom system is subjected to a harmonic\n",
    "(sinusoidal) loading with frequency $f_0$:\n",
    "\n",
    "$$ F(t) = F_{\\rm max} \\sin(2\\pi f_0 t + \\theta) $$\n",
    "\n",
    "with $F_{\\rm max}$ being the force function amplitude and $\\theta$ some phase angle.\n",
    "\n",
    "<img src=\"images/singleDOF.png\" alt=\"SDOF system\" width=\"240px\"/>\n",
    "\n",
    "Recalling the convolution theorem for Fourier Transform presented in last class we anticipate that, \n",
    "in the same way as with Laplace Transform, the system response can calculated as:\n",
    "\n",
    "$$ u(t) = f(t) * h(t) = \\int_{-\\infty}^{\\infty} {f(t - \\tau}) h(\\tau) \\,  \\; d\\tau $$\n",
    "\n",
    "with $f(t) = F(t)/m$. Deriving now the displacement twice we got the acceleration:\n",
    "\n",
    "$$ \\ddot{u}(t) = \\int_{-\\infty}^{\\infty} {\\ddot{f}(t - \\tau}) h(\\tau) \\,  \\; d\\tau $$\n",
    "\n",
    "but replacing the sinusoidal function we get:\n",
    "\n",
    "$$ \\ddot{u}(t) = -(2\\pi f_0)^2 \\int_{-\\infty}^{\\infty} {f(t - \\tau}) h(\\tau) \\,  \\; d\\tau $$\n",
    "\n",
    "Replacing now the integral in the expression above by $u(t)$ we arrive at:\n",
    "\n",
    "$$ \\ddot{u}(t) - (2\\pi f_0)^2 u(t) = 0 $$\n",
    "\n",
    "what is a homogeneous differential equation with solution:\n",
    "\n",
    "$$ u(t) = u_{\\rm max} \\sin(2\\pi f_0 t + \\theta) $$\n",
    "\n",
    "This solution states that _a linear system responds to a harmonic excitation preserving\n",
    "the same excitation frequency_. On the other hand, whenever a system is subjected\n",
    "to a harmonic excitation and the excitation frequency is not exclusivelly preserved\n",
    "in the system response, this will be a strong indication that _the system is not linear_.\n",
    "\n",
    "This theorem is demonstrated below with a excitation frequency $f_0 = 1$Hz applied to a linear\n",
    "system with natural frequency $f_{\\rm n} = 2$Hz. The system equation is solved with\n",
    "the ```MRPy``` method ```sdof_Fourier()``` which assumes that the loading is periodic and\n",
    "hence no initial conditions are required. How this method works will be explained in\n",
    "the following sections.\n"
   ]
  },
  {
   "cell_type": "code",
   "execution_count": 2,
   "metadata": {},
   "outputs": [
    {
     "data": {
      "image/png": "[encoded data removed]",
      "text/plain": [
       "<Figure size 576x144 with 1 Axes>"
      ]
     },
     "metadata": {
      "needs_background": "light"
     },
     "output_type": "display_data"
    },
    {
     "data": {
      "image/png": "[encoded data removed]",
      "text/plain": [
       "<Figure size 576x144 with 1 Axes>"
      ]
     },
     "metadata": {
      "needs_background": "light"
     },
     "output_type": "display_data"
    }
   ],
   "source": [
    "f0 = 1.0                         # excitation frequency (kg)\n",
    "F0 = 1.0                         # excitation amplitude (N)\n",
    "\n",
    "m  = 1.0                         # system mass (kg)\n",
    "fn = 2.0                         # system natural frequency (kg)\n",
    "\n",
    "t  = np.linspace(0, 8, 1024)     # time domain (s)\n",
    "F  = F0*np.sin(2*np.pi*f0*t)     # sinus function\n",
    "\n",
    "f  = MRPy(F/m, fs=1024/8)\n",
    "u  = f.sdof_Fourier(fn, 0.01)    # call frequency domain (periodic) solution\n",
    "\n",
    "f1 = u.plot_time(1, figsize=(8,2), axis_t=(0, 5, -0.01, 0.0100))\n",
    "f2 = u.plot_freq(2, figsize=(8,2), axis_f=(0, 5,  0.00, 0.0004))\n"
   ]
  },
  {
   "cell_type": "markdown",
   "metadata": {},
   "source": [
    "## 2. Reological models <a name=\"section_2\"></a> \n",
    "\n",
    "### 2.1. The general linear model  <a name=\"section_21\"></a> \n",
    "\n",
    "The damped spring-mass system depicted at the beginning of this notebook, with a single spring in parallel\n",
    "with a single damper, is one amongst many possible models for the reological behavior of linear systems.\n",
    "In general, the equilibrium equation may be written as:\n",
    "\n",
    "$$ m \\ddot{u} + r(u, t) = F(t) $$\n",
    "\n",
    "where $r(u, t)$ is a time function abridging both _restitutive_ and _reactive_ forces, which obviously \n",
    "depend on the system response itself, $u(t)$. In general, it can be stated that a linear reological model\n",
    "is the solution of the equation:\n",
    "\n",
    "$$ \\left(a_0 + a_1\\frac{\\partial}{\\partial t} + a_2\\frac{\\partial^2}{\\partial t^2} + \\dots \\right) r(t) =\n",
    "   \\left(b_0 + b_1\\frac{\\partial}{\\partial t} + b_2\\frac{\\partial^2}{\\partial t^2} + \\dots \\right) u(t) $$\n",
    "\n",
    "If we apply a Fourier Transform to this equation, with $\\mathscr{F} \\left\\{ r(t) \\right\\} = R(\\omega)$\n",
    "and $\\mathscr{F} \\left\\{ u(t) \\right\\} = U(\\omega)$, after some algebraic manipulation we arrive \n",
    "at the following general relation:\n",
    "\n",
    "$$ R(\\omega) = K(\\omega) \\left[ 1 + i\\mu(\\omega) \\right] U(\\omega)$$\n",
    "\n",
    "what in short means that there will be an _in phase_ and an _out of phase_ force to displacement response. \n",
    "Each reological models will have its own $K(\\omega)$ and $\\mu(\\omega)$ functions. \n",
    "It is important to observe the importance of the Fourier Transform approach here, \n",
    "which makes possible the solution of equilibrium equation in frequency domain without\n",
    "the need of solving an integral-differential equation in time domain.\n"
   ]
  },
  {
   "cell_type": "markdown",
   "metadata": {},
   "source": [
    "### 2.2. The Kevin-Voigt model  <a name=\"section_22\"></a> \n",
    "\n",
    "The parallel spring-damper system, commonly used for elastic structures in\n",
    "Civil Engineering, is known as _Kevin-Voigt_ model.\n",
    "\n",
    "<img src=\"images/Kelvin_Voigt_diagram.svg\" alt=\"Kelvin-Voigt\" width=\"160px\"/>\n",
    "\n",
    "In time domain the model is formulated as:\n",
    "\n",
    "$$ r(t) = c\\dot{u}(t) + ku(t)  $$\n",
    "\n",
    "while its properties are:\n",
    "\n",
    "\\begin{align*}\n",
    "  K(\\omega) &= k \\\\\n",
    "\\mu(\\omega) &= -\\frac{c\\omega}{k} \n",
    "\\end{align*}\n",
    "\n",
    "We will be always using this model, unless otherwise explicitly stated.\n"
   ]
  },
  {
   "cell_type": "markdown",
   "metadata": {},
   "source": [
    "### 2.3. The Maxwell model  <a name=\"section_23\"></a> \n",
    "\n",
    "The series spring-damper system, the most basic representation of a viscous\n",
    "material, is known as _Maxwell_ model.\n",
    "\n",
    "<img src=\"images/Maxwell_diagram.svg\" alt=\"Maxwell\" width=\"240px\"/>\n",
    "\n",
    "In time domain the model is stated as:\n",
    "\n",
    "$$ r(t) + \\frac{c}{k} \\; \\dot{r}(t) = c\\dot{u}(t)$$\n",
    "\n",
    "while its properties are:\n",
    "\n",
    "\\begin{align*}\n",
    "  K(\\omega) &=  \\frac{c^2 k}{c^2 \\omega^2 + k^2} \\omega^2 \\\\\n",
    "\\mu(\\omega) &= -\\frac{k}{c\\omega}\n",
    "\\end{align*}\n",
    "\n",
    "Observe that this model implies the possibility (almost a certainty) \n",
    "of a system non-zero final response. Furthermore, for zero excitation frequency\n",
    "(what means a static load) the displacement will become infinity.\n"
   ]
  },
  {
   "cell_type": "markdown",
   "metadata": {},
   "source": [
    "### 2.3. The Zener (standard) model  <a name=\"section_24\"></a> \n",
    "\n",
    "A more complex reological model is known as the Zener (or standard) model. \n",
    "There are two versions for these model, as illustrated below.\n",
    "\n",
    "<table align=\"center\">\n",
    " <tr>\n",
    "   <td align=\"center\"><img src=\"images/Zener_Maxwell_diagram.svg\" alt=\"Zener-Maxwell\" width=\"200px\"/></td>\n",
    "   <td align=\"center\"><img src=\"images/Zener_Kelvin_diagram.svg\"  alt=\"Zener-Kelvin\"  width=\"180px\"/></td>\n",
    " </tr>\n",
    " <tr>\n",
    "   <td align=\"center\"> The Zener model (Maxwell version) </td>\n",
    "   <td align=\"center\"> The Zener model (Kelvin version)  </td>\n",
    " </tr>\n",
    "</table> <br>\n"
   ]
  },
  {
   "cell_type": "markdown",
   "metadata": {},
   "source": [
    "\n",
    "The time domain equation for the Maxwell version of Zener model is:\n",
    "\n",
    "$$ r(t) + \\frac{c}{k_2} \\; \\dot{r}(t) = k_1 u(t) + \\frac{c(k_1 + k_2)}{k_2} \\; \\dot{u}(t) $$\n",
    "\n",
    "while the equation for the Kelvin version is:\n",
    "\n",
    "$$ r(t) + \\frac{c}{k_1 + k_2} \\; \\dot{r}(t) = \\frac{k_1 k_2}{k_1 + k_2} \\; u(t) + \\frac{c k_1}{k_1 + k_2} \\; \\dot{u}(t) $$\n",
    "\n",
    "As an exercise, it is suggested the derivation of frequency domain functions, $K(\\omega)$ and $\\mu(\\omega)$\n",
    "for these two Zener model versions.\n"
   ]
  },
  {
   "cell_type": "markdown",
   "metadata": {},
   "source": [
    "## 3. Equilibrium in frequency domain <a name=\"section_3\"></a> \n",
    "\n",
    "After choosing a suitable reological model, we may now go back to the linear dynamic equilibrium equation:\n",
    "\n",
    "$$ m \\ddot{u} + r(u, t) = F(t) $$\n",
    "\n",
    "and apply a Fourier transform to both sides of equation:\n",
    "\n",
    "$$ -\\omega^2 U(\\omega) + \\frac{1}{m} \\; R(\\omega) = F(\\omega) $$\n",
    "\n",
    "where $\\mathscr{F} \\left\\{ F(t)/m \\right\\} = F(\\omega)$.\n",
    "\n",
    "After replacing the expression for the choosen $R(\\omega)$, the system response $U(\\omega)$ can be \n",
    "calculated as a function of excitation $F(\\omega)$, and transformed back to time domain (if required).\n",
    "One must be aware that this is complex algebra, and the solution will have both an _in phase_ and \n",
    "an _out of phase_ components. \n",
    "\n",
    "In the following we will do the math for the most used Kevin-Voigt model. The equilibrium in \n",
    "frequency domain is:\n",
    "\n",
    "$$ -\\omega^2 U(\\omega) + \\frac{k}{m} \\; \\left( 1 - i\\frac{c\\omega}{k} \\right) U(\\omega) = F(\\omega) $$\n",
    "\n",
    "Now we isolate $U(\\omega)$ and recall that $\\omega_{\\rm n}^2 = k/m$ and that $\\zeta = c/(2m\\omega_{\\rm n}) $, what gives:\n",
    "\n",
    "$$ U(\\omega) = H(\\omega) F(\\omega) $$\n",
    "\n",
    "where:\n",
    "\n",
    "$$ H(\\omega) = \\frac{1}{\\omega_{\\rm n}^2} \\; \\left[ \\frac{1}{(1 - \\beta^2) - i(2\\zeta\\beta)} \\right]$$\n",
    "\n",
    "is called the _system mechanical admittance_, with $\\beta = \\omega / \\omega_{\\rm n}$ being \n",
    "a nondimensional frequency. \n",
    "\n",
    "These expressions allow a straightforward solution of the equilibrium equation in time domain \n",
    "(although its complex algebra). The mechanical admittance can be understood as a frequency \n",
    "dependent flexibility, for as the excitation frequency goes to zero (static condition) the \n",
    "admittance goes to $1/\\omega_{\\rm n}^2$, which is the flexibility coefficient \n",
    "(inverse of the stiffness coefficient, $\\omega_{\\rm n}^2$) with unity mass.\n",
    "\n",
    "In the expression above it can also be observed that for undamped systems, $\\zeta = 0$, the \n",
    "admittance, and consequently the system response, will rise to infinity when the excitation\n",
    "frequency equals the system natural frequency, $\\omega = \\omega_{\\rm n}$. This condition is\n",
    "called _resonance_, and must be always avoided in structural systems design.\n"
   ]
  },
  {
   "cell_type": "markdown",
   "metadata": {},
   "source": [
    "## 4. Estimation of r.m.s and peak response <a name=\"section_4\"></a> \n",
    "\n"
   ]
  },
  {
   "cell_type": "markdown",
   "metadata": {},
   "source": [
    "## 5. Assignment <a name=\"section_5\"></a> \n",
    "\n",
    "1. Calcular as funções $K(\\omega)$ e $\\mu(\\omega)$ para o modelo reológico de Zener (escolha uma das\n",
    "   duas versões, Maxwell ou Kelvin).\n",
    "2. Aplique as funções acima na equação de equilíbrio dinâmico no domínio da frequência e deduza\n",
    "   a correspondente função de admitância mecânica.\n",
    "3. Plote esta admitância em função da frequência adimensionalizada.\n",
    "4. Apresente a expressão da frequência natural de vibração livre para este modelo.\n",
    "4. Relatório com deduções, gráficos e resultados (nome do arquivo T6_xxxxxxxx.ipynb).\n",
    "\n",
    "ATENÇÃO: será aberta uma única entrega no Moodle para todos os trabalhos até\n",
    "aqui, que deverão ser apresentados em um único arquivo em pdf.\n",
    "\n",
    "Prazo: 01 de junho de 2020.\n"
   ]
  },
  {
   "cell_type": "code",
   "execution_count": null,
   "metadata": {},
   "outputs": [],
   "source": []
  }
 ],
 "metadata": {
  "kernelspec": {
   "display_name": "Python 3",
   "language": "python",
   "name": "python3"
  },
  "language_info": {
   "codemirror_mode": {
    "name": "ipython",
    "version": 3
   },
   "file_extension": ".py",
   "mimetype": "text/x-python",
   "name": "python",
   "nbconvert_exporter": "python",
   "pygments_lexer": "ipython3",
   "version": "3.7.6"
  }
 },
 "nbformat": 4,
 "nbformat_minor": 2
}
