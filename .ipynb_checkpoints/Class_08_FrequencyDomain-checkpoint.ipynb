{
 "cells": [
  {
   "cell_type": "markdown",
   "metadata": {},
   "source": [
    "Universidade Federal do Rio Grande do Sul (UFRGS)   \n",
    "Programa de Pós-Graduação em Engenharia Civil (PPGEC)   \n",
    "\n",
    "# PEC00025: Introduction to Vibration Theory\n",
    "\n",
    "\n",
    "### Class 08 - Vibration analysis in frequency domain\n",
    "\n",
    "[1.   Frequency preservation theorem](#section_1)  \n",
    "[2.   Reological models](#section_2)  \n",
    "[3.   The Kevin-Voigt model](#section_3)  \n",
    "[4.   Equilibrium in frequency domain](#section_4)  \n",
    "[5.   Estimation of r.m.s. and peak response](#section_5)  \n",
    "[6.   Assignment](#section_6)  \n",
    "\n",
    "---\n",
    "_Prof. Marcelo M. Rocha, Dr.techn._ [(ORCID)](https://orcid.org/0000-0001-5640-1020)  \n",
    "_Porto Alegre, RS, Brazil_ "
   ]
  },
  {
   "cell_type": "code",
   "execution_count": 2,
   "metadata": {},
   "outputs": [],
   "source": [
    "# Importing Python modules required for this notebook\n",
    "# (this cell must be executed with \"shift+enter\" before any other Python cell)\n",
    "\n",
    "import numpy as np\n",
    "import matplotlib.pyplot as plt\n",
    "from   MRPy import MRPy\n"
   ]
  },
  {
   "cell_type": "markdown",
   "metadata": {},
   "source": [
    "## 1. Frequency preservation theorem <a name=\"section_1\"></a> \n",
    "\n",
    "Let us assume now that our idealized single degree of freedom system is subjected to a harmonic\n",
    "(sinusoidal) loading with frequency $f_0$:\n",
    "\n",
    "$$ F(t) = F_{\\rm max} \\sin(2\\pi f_0 t + \\theta) $$\n",
    "\n",
    "with $F_{\\rm max}$ being the force function amplitude and $\\theta$ some phase angle.\n",
    "\n",
    "<img src=\"images/singleDOF.png\" alt=\"SDOF system\" width=\"240px\"/>\n",
    "\n",
    "Recalling the convolution theorem for Fourier Transform presented in last class we anticipate that, \n",
    "in the same way as with Laplace Transform, the system response can calculated as:\n",
    "\n",
    "$$ u(t) = f(t) * h(t) = \\int_{-\\infty}^{\\infty} {f(t - \\tau}) h(\\tau) \\,  \\; d\\tau $$\n",
    "\n",
    "with $f(t) = F(t)/m$. Deriving now the displacement twice we got the acceleration:\n",
    "\n",
    "$$ \\ddot{u}(t) = \\int_{-\\infty}^{\\infty} {\\ddot{f}(t - \\tau}) h(\\tau) \\,  \\; d\\tau $$\n",
    "\n",
    "but replacing the sinusoidal function we get:\n",
    "\n",
    "$$ \\ddot{u}(t) = -(2\\pi f_0)^2 \\int_{-\\infty}^{\\infty} {f(t - \\tau}) h(\\tau) \\,  \\; d\\tau $$\n",
    "\n",
    "Replacing now the integral in the expression above by $u(t)$ we arrive at:\n",
    "\n",
    "$$ \\ddot{u}(t) - (2\\pi f_0)^2 u(t) = 0 $$\n",
    "\n",
    "what is a homogeneous differential equation with solution:\n",
    "\n",
    "$$ u(t) = u_{\\rm max} \\sin(2\\pi f_0 t + \\theta) $$\n",
    "\n",
    "This solution states that _a linear system responds to a harmonic excitation preserving\n",
    "the same excitation frequency_. On the other hand, whenever a system is subjected\n",
    "to a harmonic excitation and the excitation frequency is not exclusivelly preserved\n",
    "in the system response, this will be a strong indication that _the system is not linear_.\n",
    "\n",
    "This theorem is demonstrated below with a excitation frequency $f_0 = 1$Hz applied to a linear\n",
    "system with natural frequency $f_{\\rm n} = 2$Hz. The system equation is solved with\n",
    "the ```MRPy``` method ```sdof_Fourier()``` which assumes that the loading is periodic and\n",
    "hence no initial conditions are required.\n"
   ]
  },
  {
   "cell_type": "code",
   "execution_count": 16,
   "metadata": {},
   "outputs": [
    {
     "data": {
      "image/png": "[encoded data removed]",
      "text/plain": [
       "<Figure size 864x576 with 1 Axes>"
      ]
     },
     "metadata": {
      "needs_background": "light"
     },
     "output_type": "display_data"
    }
   ],
   "source": [
    "f0 = 1.0                         # excitation frequency (kg)\n",
    "F0 = 1.0                         # excitation amplitude (N)\n",
    "\n",
    "m  = 1.0                         # system mass (kg)\n",
    "fn = 2.0                         # system natural frequency (kg)\n",
    "\n",
    "t  = np.linspace(0, 8, 1024)     # time domain (s)\n",
    "F  = F0*np.sin(2*np.pi*f0*t)     # sinus function\n",
    "\n",
    "f  = MRPy(F/m, fs=1024/8)\n",
    "u  = f.sdof_Fourier(fn, 0.01)    # call frequency domain (periodic) solution\n",
    "\n",
    "f1 = u.plot_freq(1, axis_f=(0, 5, 0, 0.0005))\n"
   ]
  },
  {
   "cell_type": "markdown",
   "metadata": {},
   "source": [
    "## 2. Reological models <a name=\"section_2\"></a> \n",
    "\n"
   ]
  },
  {
   "cell_type": "markdown",
   "metadata": {},
   "source": [
    "## 3. The  Kevin-Voigt model <a name=\"section_3\"></a> \n",
    "\n"
   ]
  },
  {
   "cell_type": "markdown",
   "metadata": {},
   "source": [
    "## 4. Equilibrium in frequency domain <a name=\"section_4\"></a> \n",
    "\n"
   ]
  },
  {
   "cell_type": "markdown",
   "metadata": {},
   "source": [
    "## 5. Estimation of r.m.s and peak response <a name=\"section_5\"></a> \n",
    "\n"
   ]
  },
  {
   "cell_type": "markdown",
   "metadata": {},
   "source": [
    "## 6. Assignment <a name=\"section_6\"></a> \n",
    "\n"
   ]
  }
 ],
 "metadata": {
  "kernelspec": {
   "display_name": "Python 3",
   "language": "python",
   "name": "python3"
  },
  "language_info": {
   "codemirror_mode": {
    "name": "ipython",
    "version": 3
   },
   "file_extension": ".py",
   "mimetype": "text/x-python",
   "name": "python",
   "nbconvert_exporter": "python",
   "pygments_lexer": "ipython3",
   "version": "3.7.6"
  }
 },
 "nbformat": 4,
 "nbformat_minor": 2
}
